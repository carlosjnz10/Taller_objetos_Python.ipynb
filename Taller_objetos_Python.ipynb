{
 "cells": [
  {
   "cell_type": "markdown",
   "id": "9f9f9851",
   "metadata": {},
   "source": [
    "# Taller: Tipos de objetos y estructuras de datos en Python\n",
    "**Curso:** Inteligencia Artificial con aplicaciones en Economía I  \n",
    "**Docente:** Lina María Castro    "
   ]
  },
  {
   "cell_type": "markdown",
   "id": "b0d4c4fa",
   "metadata": {},
   "source": [
    "## Ejercicio 1\n",
    "\n",
    "¿Cuál de los siguientes **NO** es un tipo de objeto básico en Python?  \n",
    "a) Números  \n",
    "b) Cadenas de texto  \n",
    "c) Conjuntos  \n",
    "d) Funciones matemáticas\n"
   ]
  },
  {
   "cell_type": "code",
   "execution_count": 20,
   "id": "cceb41e3",
   "metadata": {},
   "outputs": [
    {
     "name": "stdout",
     "output_type": "stream",
     "text": [
      "<class 'int'>\n",
      "<class 'str'>\n",
      "<class 'set'>\n",
      "<class 'builtin_function_or_method'>\n"
     ]
    }
   ],
   "source": [
    "# Comprobación\n",
    "print(type(7))          \n",
    "print(type(\"TEXTO\"))      \n",
    "print(type({\"a\",\"b\",\"c\"}))    \n",
    "import math\n",
    "print(type(math.sqrt))   #Función matematica, objeto no basico"
   ]
  },
  {
   "cell_type": "markdown",
   "id": "75d818fc",
   "metadata": {},
   "source": [
    "**Respuesta final:** d) Funciones matemáticas "
   ]
  },
  {
   "cell_type": "markdown",
   "id": "f35b0948",
   "metadata": {},
   "source": [
    "## Ejercicio 2\n",
    "\n",
    "En Python, los valores `True` y `False` pertenecen al tipo:  \n",
    "a) Entero  \n",
    "b) Booleano  \n",
    "c) Cadena  \n",
    "d) Conjunto\n"
   ]
  },
  {
   "cell_type": "code",
   "execution_count": null,
   "id": "a440b9b3",
   "metadata": {},
   "outputs": [
    {
     "name": "stdout",
     "output_type": "stream",
     "text": [
      "<class 'bool'>\n",
      "<class 'bool'>\n",
      "<class 'complex'>\n"
     ]
    }
   ],
   "source": [
    "# Comprobación\n",
    "print(type(True))\n",
    "print(type(False))"
   ]
  },
  {
   "cell_type": "markdown",
   "id": "bdfc280e",
   "metadata": {},
   "source": [
    "**Respuesta final:** b) Booleano "
   ]
  },
  {
   "cell_type": "markdown",
   "id": "992db30e",
   "metadata": {},
   "source": [
    "## Ejercicio 3\n",
    "\n",
    "¿Cuál de los siguientes objetos se considera un tipo numérico en Python?  \n",
    "a) int, float y complex  \n",
    "b) str, int y tuple  \n",
    "c) list, set y dict  \n",
    "d) bool, tuple y set\n"
   ]
  },
  {
   "cell_type": "code",
   "execution_count": 28,
   "id": "91c4b28a",
   "metadata": {},
   "outputs": [
    {
     "name": "stdout",
     "output_type": "stream",
     "text": [
      "<class 'int'>\n",
      "<class 'float'>\n",
      "<class 'complex'>\n"
     ]
    }
   ],
   "source": [
    "# Comprobación \n",
    "print(type(1))\n",
    "print(type(1.5))\n",
    "print(type(1+2j))"
   ]
  },
  {
   "cell_type": "markdown",
   "id": "0c2b9dad",
   "metadata": {},
   "source": [
    "**Respuesta final:** a) int, float y complex  "
   ]
  },
  {
   "cell_type": "markdown",
   "id": "eb0fcb3e",
   "metadata": {},
   "source": [
    "## Ejercicio 4\n",
    "\n",
    "¿Qué imprime este código?  \n",
    "```python\n",
    "x = (1, 2, 3)\n",
    "print(x[1])\n",
    "```\n",
    "a) 1  \n",
    "b) 2  \n",
    "c) 3  \n",
    "d) Error\n"
   ]
  },
  {
   "cell_type": "code",
   "execution_count": 1,
   "id": "701bdfc3",
   "metadata": {},
   "outputs": [
    {
     "name": "stdout",
     "output_type": "stream",
     "text": [
      "2\n"
     ]
    }
   ],
   "source": [
    "# Comprobación \n",
    "x = (1, 2, 3)\n",
    "print(x[1]) "
   ]
  },
  {
   "cell_type": "markdown",
   "id": "567a7cc3",
   "metadata": {},
   "source": [
    "**Respuesta final:** b) 2  "
   ]
  },
  {
   "cell_type": "markdown",
   "id": "62da3221",
   "metadata": {},
   "source": [
    "## Ejercicio 5\n",
    "\n",
    "¿Cuál es el error en este código?  \n",
    "```python\n",
    "t = (1, 2, 3)\n",
    "t[0] = 10\n",
    "```\n",
    "a) No hay error  \n",
    "b) Las tuplas son mutables  \n",
    "c) Las tuplas son inmutables  \n",
    "d) Error de sintaxis\n"
   ]
  },
  {
   "cell_type": "code",
   "execution_count": 34,
   "id": "cd063202",
   "metadata": {},
   "outputs": [
    {
     "ename": "TypeError",
     "evalue": "'tuple' object does not support item assignment",
     "output_type": "error",
     "traceback": [
      "\u001b[31m---------------------------------------------------------------------------\u001b[39m",
      "\u001b[31mTypeError\u001b[39m                                 Traceback (most recent call last)",
      "\u001b[36mCell\u001b[39m\u001b[36m \u001b[39m\u001b[32mIn[34]\u001b[39m\u001b[32m, line 3\u001b[39m\n\u001b[32m      1\u001b[39m \u001b[38;5;66;03m# Comprobación \u001b[39;00m\n\u001b[32m      2\u001b[39m t = (\u001b[32m1\u001b[39m, \u001b[32m2\u001b[39m, \u001b[32m3\u001b[39m)\n\u001b[32m----> \u001b[39m\u001b[32m3\u001b[39m \u001b[43mt\u001b[49m\u001b[43m[\u001b[49m\u001b[32;43m0\u001b[39;49m\u001b[43m]\u001b[49m= \u001b[32m10\u001b[39m\n",
      "\u001b[31mTypeError\u001b[39m: 'tuple' object does not support item assignment"
     ]
    }
   ],
   "source": [
    "# Comprobación \n",
    "t = (1, 2, 3)\n",
    "t[0]= 10"
   ]
  },
  {
   "cell_type": "markdown",
   "id": "7cc9336b",
   "metadata": {},
   "source": [
    "**Respuesta final:** c) Las tuplas son inmutables "
   ]
  },
  {
   "cell_type": "markdown",
   "id": "e336d22f",
   "metadata": {},
   "source": [
    "## Ejercicio 6\n",
    "\n",
    "¿Qué resultado produce?  \n",
    "```python\n",
    "s = {1, 2, 2, 3, 3}\n",
    "print(s)\n",
    "```\n",
    "a) {1, 2, 2, 3, 3}  \n",
    "b) {1, 2, 3}  \n",
    "c) [1, 2, 3]  \n",
    "d) Error\n"
   ]
  },
  {
   "cell_type": "code",
   "execution_count": null,
   "id": "05c2e723",
   "metadata": {},
   "outputs": [
    {
     "name": "stdout",
     "output_type": "stream",
     "text": [
      "{1, 2, 3}\n"
     ]
    }
   ],
   "source": [
    "# Comprobación \n",
    "s = {1, 2, 2, 3, 3}\n",
    "print(s) "
   ]
  },
  {
   "cell_type": "markdown",
   "id": "3fdb580e",
   "metadata": {},
   "source": [
    "**Respuesta final:** b) {1, 2, 3}  "
   ]
  },
  {
   "cell_type": "markdown",
   "id": "5dffc976",
   "metadata": {},
   "source": [
    "## Ejercicio 7\n",
    "\n",
    "¿Cuál es la salida?  \n",
    "```python\n",
    "palabra = \"Mundo\"\n",
    "print(palabra[1:4])\n",
    "```\n",
    "a) \"Mund\"  \n",
    "b) \"M\"  \n",
    "c) \"und\"  \n",
    "d) \"ndo\"\n"
   ]
  },
  {
   "cell_type": "code",
   "execution_count": 36,
   "id": "1d4d37a5",
   "metadata": {},
   "outputs": [
    {
     "name": "stdout",
     "output_type": "stream",
     "text": [
      "und\n"
     ]
    }
   ],
   "source": [
    "# Comprobación \n",
    "palabra=\"Mundo\"\n",
    "print(palabra[1:4])"
   ]
  },
  {
   "cell_type": "markdown",
   "id": "9e3f2565",
   "metadata": {},
   "source": [
    "**Respuesta final:** c) \"und\" "
   ]
  },
  {
   "cell_type": "markdown",
   "id": "6f6d979f",
   "metadata": {},
   "source": [
    "## Ejercicio 8\n",
    "\n",
    "¿Qué imprime?  \n",
    "```python\n",
    "lista = [10, 20, 30]\n",
    "lista.append(40)\n",
    "print(lista)\n",
    "```\n",
    "a) [10, 20, 30]  \n",
    "b) [10, 20, 30, 40]  \n",
    "c) [40, 10, 20, 30]  \n",
    "d) Error\n"
   ]
  },
  {
   "cell_type": "code",
   "execution_count": 37,
   "id": "35826d07",
   "metadata": {},
   "outputs": [
    {
     "name": "stdout",
     "output_type": "stream",
     "text": [
      "[10, 20, 30, 40]\n"
     ]
    }
   ],
   "source": [
    "# Comprobación\n",
    "lista = [10, 20, 30]\n",
    "lista.append(40)\n",
    "print(lista)"
   ]
  },
  {
   "cell_type": "markdown",
   "id": "9d7d97dd",
   "metadata": {},
   "source": [
    "**Respuesta final:** b) [10, 20, 30, 40]"
   ]
  },
  {
   "cell_type": "markdown",
   "id": "47457bce",
   "metadata": {},
   "source": [
    "## Ejercicio 9\n",
    "\n",
    "¿Qué ocurre?  \n",
    "```python\n",
    "dic = {\"a\": 1, \"b\": 2}\n",
    "print(dic[\"c\"])\n",
    "```\n",
    "a) 0  \n",
    "b) None  \n",
    "c) Error  \n",
    "d) \"c\"\n"
   ]
  },
  {
   "cell_type": "code",
   "execution_count": 47,
   "id": "98746840",
   "metadata": {},
   "outputs": [
    {
     "ename": "KeyError",
     "evalue": "'c'",
     "output_type": "error",
     "traceback": [
      "\u001b[31m---------------------------------------------------------------------------\u001b[39m",
      "\u001b[31mKeyError\u001b[39m                                  Traceback (most recent call last)",
      "\u001b[36mCell\u001b[39m\u001b[36m \u001b[39m\u001b[32mIn[47]\u001b[39m\u001b[32m, line 3\u001b[39m\n\u001b[32m      1\u001b[39m \u001b[38;5;66;03m# Comprobación\u001b[39;00m\n\u001b[32m      2\u001b[39m dic = {\u001b[33m\"\u001b[39m\u001b[33ma\u001b[39m\u001b[33m\"\u001b[39m: \u001b[32m1\u001b[39m, \u001b[33m\"\u001b[39m\u001b[33mb\u001b[39m\u001b[33m\"\u001b[39m: \u001b[32m2\u001b[39m}\n\u001b[32m----> \u001b[39m\u001b[32m3\u001b[39m \u001b[38;5;28mprint\u001b[39m(\u001b[43mdic\u001b[49m\u001b[43m[\u001b[49m\u001b[33;43m\"\u001b[39;49m\u001b[33;43mc\u001b[39;49m\u001b[33;43m\"\u001b[39;49m\u001b[43m]\u001b[49m)\n",
      "\u001b[31mKeyError\u001b[39m: 'c'"
     ]
    }
   ],
   "source": [
    "# Comprobación\n",
    "dic = {\"a\": 1, \"b\": 2}\n",
    "print(dic[\"c\"])\n"
   ]
  },
  {
   "cell_type": "markdown",
   "id": "4e97f0fb",
   "metadata": {},
   "source": [
    "**Respuesta final:** c) Error "
   ]
  },
  {
   "cell_type": "markdown",
   "id": "366bacc5",
   "metadata": {},
   "source": [
    "## Ejercicio 10\n",
    "\n",
    "Elige la opción correcta para obtener el valor 3 de este diccionario:  \n",
    "```python\n",
    "d = {\"x\": 1, \"y\": 2, \"z\": 3}\n",
    "```\n",
    "a) d[\"z\"]  \n",
    "b) d[3]  \n",
    "c) d.z  \n",
    "d) d.get(\"a\")"
   ]
  },
  {
   "cell_type": "code",
   "execution_count": null,
   "id": "330b6d89",
   "metadata": {},
   "outputs": [
    {
     "data": {
      "text/plain": [
       "3"
      ]
     },
     "execution_count": 54,
     "metadata": {},
     "output_type": "execute_result"
    }
   ],
   "source": [
    "# Comprobación\n",
    "d = {\"x\": 1, \"y\": 2, \"z\": 3}\n",
    "d[\"z\"]"
   ]
  },
  {
   "cell_type": "markdown",
   "id": "50be30d8",
   "metadata": {},
   "source": [
    "**Respuesta final:** a) d[\"z\"] "
   ]
  },
  {
   "cell_type": "markdown",
   "id": "e5810501",
   "metadata": {},
   "source": [
    "## Ejercicio 11\n",
    "\n",
    "¿Qué devuelve este código?  \n",
    "```python\n",
    "print(type(3.0))\n",
    "```\n",
    "a) int  \n",
    "b) float  \n",
    "c) str  \n",
    "d) complex\n"
   ]
  },
  {
   "cell_type": "code",
   "execution_count": 57,
   "id": "2677ed29",
   "metadata": {},
   "outputs": [
    {
     "name": "stdout",
     "output_type": "stream",
     "text": [
      "<class 'float'>\n"
     ]
    }
   ],
   "source": [
    "# Comprobación\n",
    "print(type(3.0))"
   ]
  },
  {
   "cell_type": "markdown",
   "id": "b72a8843",
   "metadata": {},
   "source": [
    "**Respuesta final:** b) float  "
   ]
  },
  {
   "cell_type": "markdown",
   "id": "2e8a9c2e",
   "metadata": {},
   "source": [
    "## Ejercicio 12\n",
    "\n",
    "¿Cuál es el resultado?  \n",
    "```python\n",
    "x = [1, 2, 3]\n",
    "y = x\n",
    "y.append(4)\n",
    "print(x)\n",
    "```\n",
    "a) [1, 2, 3]  \n",
    "b) [1, 2, 3, 4]  \n",
    "c) Error  \n",
    "d) [4]\n"
   ]
  },
  {
   "cell_type": "code",
   "execution_count": null,
   "id": "b7db92af",
   "metadata": {},
   "outputs": [
    {
     "name": "stdout",
     "output_type": "stream",
     "text": [
      "[1, 2, 3, 4]\n"
     ]
    }
   ],
   "source": [
    "# Comprobación\n",
    "x = [1, 2, 3]\n",
    "y = x\n",
    "y.append(4)\n",
    "print(x)"
   ]
  },
  {
   "cell_type": "markdown",
   "id": "7ebc5a0c",
   "metadata": {},
   "source": [
    "**Respuesta final:** b) [1, 2, 3, 4]  "
   ]
  },
  {
   "cell_type": "markdown",
   "id": "bb718049",
   "metadata": {},
   "source": [
    "## Ejercicio 13\n",
    "\n",
    "```python\n",
    "numeros = [\"10\", \"20\", \"30\"]  \n",
    "resultado = \",\".join(numeros) \n",
    "``` \n",
    "El valor de `resultado` será:  \n",
    "a) 10,20,30 (como enteros)  \n",
    "b) \"10,20,30\"  \n",
    "c) [\"10,20,30\"]  \n",
    "d) (10,20,30)\n"
   ]
  },
  {
   "cell_type": "code",
   "execution_count": null,
   "id": "9657ccf8",
   "metadata": {},
   "outputs": [
    {
     "data": {
      "text/plain": [
       "'10,20,30'"
      ]
     },
     "execution_count": 60,
     "metadata": {},
     "output_type": "execute_result"
    }
   ],
   "source": [
    "# Comprobación\n",
    "numeros = [\"10\", \"20\", \"30\"]  \n",
    "resultado = \",\".join(numeros) \n",
    "resultado"
   ]
  },
  {
   "cell_type": "markdown",
   "id": "34715410",
   "metadata": {},
   "source": [
    "**Respuesta final:** b) \"10,20,30\""
   ]
  },
  {
   "cell_type": "markdown",
   "id": "5a6fbcb2",
   "metadata": {},
   "source": [
    "## Ejercicio 14\n",
    "\n",
    "Completa el código para convertir un conjunto a lista:  \n",
    "```python\n",
    "s = {1, 2, 3}\n",
    "____\n",
    "```\n",
    "a) list(s)  \n",
    "b) tuple(s)  \n",
    "c) dict(s)  \n",
    "d) set(s)\n"
   ]
  },
  {
   "cell_type": "code",
   "execution_count": 68,
   "id": "63228d61",
   "metadata": {},
   "outputs": [
    {
     "data": {
      "text/plain": [
       "[1, 2, 3]"
      ]
     },
     "execution_count": 68,
     "metadata": {},
     "output_type": "execute_result"
    }
   ],
   "source": [
    "#  Comprobación\n",
    "s = {1, 2, 3}\n",
    "list(s)"
   ]
  },
  {
   "cell_type": "markdown",
   "id": "bb824c6a",
   "metadata": {},
   "source": [
    "**Respuesta final:** a) list(s)"
   ]
  },
  {
   "cell_type": "markdown",
   "id": "1d1910d7",
   "metadata": {},
   "source": [
    "## Ejercicio 15\n",
    "\n",
    "¿Cuál es la salida?  \n",
    "```python\n",
    "cadena = \"Hola\"\n",
    "print(cadena * 3)\n",
    "```\n",
    "a) \"Hola Hola Hola\"  \n",
    "b) \"HolaHolaHola\"  \n",
    "c) [Hola, Hola, Hola]  \n",
    "d) Error\n"
   ]
  },
  {
   "cell_type": "code",
   "execution_count": null,
   "id": "9ed04aff",
   "metadata": {},
   "outputs": [
    {
     "name": "stdout",
     "output_type": "stream",
     "text": [
      "HolaHolaHola\n"
     ]
    }
   ],
   "source": [
    "# Comprobación\n",
    "cadena = \"Hola\"\n",
    "print(cadena * 3)"
   ]
  },
  {
   "cell_type": "markdown",
   "id": "b15aebef",
   "metadata": {},
   "source": [
    "**Respuesta final:** b) \"HolaHolaHola\""
   ]
  },
  {
   "cell_type": "markdown",
   "id": "f779e453",
   "metadata": {},
   "source": [
    "## Ejercicio 16\n",
    "\n",
    "¿Qué valor imprime?  \n",
    "```python\n",
    "lista = [10, 20, 30]\n",
    "print(lista[-1])\n",
    "```\n",
    "a) 10  \n",
    "b) 20  \n",
    "c) 30  \n",
    "d) Error\n"
   ]
  },
  {
   "cell_type": "code",
   "execution_count": null,
   "id": "ada0474e",
   "metadata": {},
   "outputs": [
    {
     "name": "stdout",
     "output_type": "stream",
     "text": [
      "30\n"
     ]
    }
   ],
   "source": [
    "# Comprobación\n",
    "lista = [10, 20, 30]\n",
    "print(lista[-1])"
   ]
  },
  {
   "cell_type": "markdown",
   "id": "6a5e947b",
   "metadata": {},
   "source": [
    "**Respuesta final:** c) 30"
   ]
  },
  {
   "cell_type": "markdown",
   "id": "a24efbbc",
   "metadata": {},
   "source": [
    "## Ejercicio 17\n",
    "``` python\n",
    "precios = [1200, 500, 3400, 800]  \n",
    "precios.sort()\n",
    "```  \n",
    "¿Qué contendrá `precios` después?  \n",
    "a) [500, 800, 1200, 3400]  \n",
    "b) [1200, 500, 3400, 800]  \n",
    "c) [3400, 1200, 800, 500]  \n",
    "d) (500, 800, 1200, 3400)\n"
   ]
  },
  {
   "cell_type": "code",
   "execution_count": 76,
   "id": "3f45fda4",
   "metadata": {},
   "outputs": [
    {
     "data": {
      "text/plain": [
       "[500, 800, 1200, 3400]"
      ]
     },
     "execution_count": 76,
     "metadata": {},
     "output_type": "execute_result"
    }
   ],
   "source": [
    "# Comprobación\n",
    "precios = [1200, 500, 3400, 800]  \n",
    "precios.sort()\n",
    "precios"
   ]
  },
  {
   "cell_type": "markdown",
   "id": "d35a9f7e",
   "metadata": {},
   "source": [
    "**Respuesta final:** a) [500, 800, 1200, 3400]"
   ]
  },
  {
   "cell_type": "markdown",
   "id": "e3e7c244",
   "metadata": {},
   "source": [
    "## Ejercicio 18\n",
    "\n",
    "¿Cuál es el error?  \n",
    "```python\n",
    "conjunto = {1, 2, 3}\n",
    "print(conjunto[0])\n",
    "```\n",
    "a) Los conjuntos no son indexables  \n",
    "b) Falta una coma  \n",
    "c) Error de sintaxis  \n",
    "d) No hay error\n"
   ]
  },
  {
   "cell_type": "code",
   "execution_count": null,
   "id": "ab3d82cf",
   "metadata": {},
   "outputs": [
    {
     "ename": "TypeError",
     "evalue": "'set' object is not subscriptable",
     "output_type": "error",
     "traceback": [
      "\u001b[31m---------------------------------------------------------------------------\u001b[39m",
      "\u001b[31mTypeError\u001b[39m                                 Traceback (most recent call last)",
      "\u001b[36mCell\u001b[39m\u001b[36m \u001b[39m\u001b[32mIn[78]\u001b[39m\u001b[32m, line 3\u001b[39m\n\u001b[32m      1\u001b[39m \u001b[38;5;66;03m# Escribe aquí tu comprobación para el Ejercicio 18\u001b[39;00m\n\u001b[32m      2\u001b[39m conjunto = {\u001b[32m1\u001b[39m, \u001b[32m2\u001b[39m, \u001b[32m3\u001b[39m}\n\u001b[32m----> \u001b[39m\u001b[32m3\u001b[39m \u001b[38;5;28mprint\u001b[39m(\u001b[43mconjunto\u001b[49m\u001b[43m[\u001b[49m\u001b[32;43m0\u001b[39;49m\u001b[43m,\u001b[49m\u001b[32;43m1\u001b[39;49m\u001b[43m]\u001b[49m)\n",
      "\u001b[31mTypeError\u001b[39m: 'set' object is not subscriptable"
     ]
    }
   ],
   "source": [
    "# Comprobación\n",
    "conjunto = {1, 2, 3}\n",
    "print(conjunto[0])"
   ]
  },
  {
   "cell_type": "markdown",
   "id": "faf46bf2",
   "metadata": {},
   "source": [
    "**Respuesta final:** a) Los conjuntos no son indexables "
   ]
  },
  {
   "cell_type": "markdown",
   "id": "271ac794",
   "metadata": {},
   "source": [
    "## Ejercicio 19\n",
    "\n",
    "¿Qué devuelve?  \n",
    "```python\n",
    "len({\"a\": 1, \"b\": 2, \"c\": 3})\n",
    "```\n",
    "a) 6  \n",
    "b) 3  \n",
    "c) 2  \n",
    "d) 1\n"
   ]
  },
  {
   "cell_type": "code",
   "execution_count": null,
   "id": "284980c4",
   "metadata": {},
   "outputs": [
    {
     "data": {
      "text/plain": [
       "3"
      ]
     },
     "execution_count": 79,
     "metadata": {},
     "output_type": "execute_result"
    }
   ],
   "source": [
    "# Comprobación\n",
    "len({\"a\": 1, \"b\": 2, \"c\": 3})"
   ]
  },
  {
   "cell_type": "markdown",
   "id": "a71073f6",
   "metadata": {},
   "source": [
    "**Respuesta final:** b) 3"
   ]
  },
  {
   "cell_type": "markdown",
   "id": "e139bfe1",
   "metadata": {},
   "source": [
    "## Ejercicio 20\n",
    "\n",
    "¿Qué resultado da?  \n",
    "```python\n",
    "lista = [1, 2, 3]\n",
    "print(lista * 2)\n",
    "```\n",
    "a) [1, 2, 3, 1, 2, 3]  \n",
    "b) [2, 4, 6]  \n",
    "c) [1, 2, 3, 2]  \n",
    "d) Error\n"
   ]
  },
  {
   "cell_type": "code",
   "execution_count": 82,
   "id": "bab09f84",
   "metadata": {},
   "outputs": [
    {
     "name": "stdout",
     "output_type": "stream",
     "text": [
      "[1, 2, 3, 1, 2, 3]\n"
     ]
    }
   ],
   "source": [
    "# Comprobación\n",
    "lista = [1, 2, 3]\n",
    "print(lista * 2)"
   ]
  },
  {
   "cell_type": "markdown",
   "id": "4b758399",
   "metadata": {},
   "source": [
    "**Respuesta final:** a) [1, 2, 3, 1, 2, 3]"
   ]
  },
  {
   "cell_type": "markdown",
   "id": "853e166d",
   "metadata": {},
   "source": [
    "## Ejercicio 21\n",
    "\n",
    "¿Qué ocurre?  \n",
    "```python\n",
    "d = {\"a\": 1}\n",
    "d[\"a\"] = 100\n",
    "print(d)\n",
    "```\n",
    "a) {\"a\": 1}  \n",
    "b) {\"a\": 100}  \n",
    "c) {\"a\": 1, \"a\": 100}  \n",
    "d) Error\n"
   ]
  },
  {
   "cell_type": "code",
   "execution_count": 83,
   "id": "8a21791e",
   "metadata": {},
   "outputs": [
    {
     "name": "stdout",
     "output_type": "stream",
     "text": [
      "{'a': 100}\n"
     ]
    }
   ],
   "source": [
    "# Comprobación\n",
    "d = {\"a\": 1}\n",
    "d[\"a\"] = 100\n",
    "print(d)"
   ]
  },
  {
   "cell_type": "markdown",
   "id": "bf99be46",
   "metadata": {},
   "source": [
    "**Respuesta final:** b) {\"a\": 100} "
   ]
  },
  {
   "cell_type": "markdown",
   "id": "7f7130b9",
   "metadata": {},
   "source": [
    "## Ejercicio 22\n",
    "\n",
    "¿Qué imprime?  \n",
    "```python\n",
    "print(\"python\".upper())\n",
    "```\n",
    "a) PYTHON  \n",
    "b) Python  \n",
    "c) python  \n",
    "d) Error\n"
   ]
  },
  {
   "cell_type": "code",
   "execution_count": 84,
   "id": "02831abe",
   "metadata": {},
   "outputs": [
    {
     "name": "stdout",
     "output_type": "stream",
     "text": [
      "PYTHON\n"
     ]
    }
   ],
   "source": [
    "# Comprobación\n",
    "print(\"python\".upper())"
   ]
  },
  {
   "cell_type": "markdown",
   "id": "45098b5c",
   "metadata": {},
   "source": [
    "**Respuesta final:** a) PYTHON"
   ]
  },
  {
   "cell_type": "markdown",
   "id": "0793aab3",
   "metadata": {},
   "source": [
    "## Ejercicio 23\n",
    "\n",
    "Completa el código para agregar el número 5 a un conjunto:  \n",
    "```python\n",
    "s = {1, 2, 3}\n",
    "s.____(5)\n",
    "```\n",
    "a) add  \n",
    "b) append  \n",
    "c) insert  \n",
    "d) extend\n"
   ]
  },
  {
   "cell_type": "code",
   "execution_count": null,
   "id": "a495b12d",
   "metadata": {},
   "outputs": [
    {
     "data": {
      "text/plain": [
       "{1, 2, 3, 5}"
      ]
     },
     "execution_count": 87,
     "metadata": {},
     "output_type": "execute_result"
    }
   ],
   "source": [
    "# Comprobación\n",
    "s = {1, 2, 3}\n",
    "s.add(5)\n",
    "s"
   ]
  },
  {
   "cell_type": "markdown",
   "id": "f4a57927",
   "metadata": {},
   "source": [
    "**Respuesta final:** _(escribe solo la letra: a/b/c/d)_"
   ]
  },
  {
   "cell_type": "markdown",
   "id": "da9a0a31",
   "metadata": {},
   "source": [
    "## Ejercicio 24\n",
    "\n",
    "¿Cuál es la salida?  \n",
    "```python\n",
    "d = {\"x\": 10, \"y\": 20}\n",
    "print(\"x\" in d)\n",
    "```\n",
    "a) False  \n",
    "b) True  \n",
    "c) Error  \n",
    "d) None\n"
   ]
  },
  {
   "cell_type": "code",
   "execution_count": null,
   "id": "5f782320",
   "metadata": {},
   "outputs": [
    {
     "name": "stdout",
     "output_type": "stream",
     "text": [
      "True\n"
     ]
    }
   ],
   "source": [
    "# Comprobación\n",
    "d = {\"x\": 10, \"y\": 20}\n",
    "print(\"x\" in d)"
   ]
  },
  {
   "cell_type": "markdown",
   "id": "69270ccb",
   "metadata": {},
   "source": [
    "**Respuesta final:** _(escribe solo la letra: a/b/c/d)_"
   ]
  },
  {
   "cell_type": "markdown",
   "id": "8827bd39",
   "metadata": {},
   "source": [
    "## Ejercicio 25\n",
    "\n",
    "¿Qué imprime?  \n",
    "```python\n",
    "print([1, 2, 3] == [1, 2, 3])\n",
    "```\n",
    "a) True  \n",
    "b) False  \n",
    "c) None  \n",
    "d) Error\n"
   ]
  },
  {
   "cell_type": "code",
   "execution_count": null,
   "id": "a671f95e",
   "metadata": {},
   "outputs": [
    {
     "name": "stdout",
     "output_type": "stream",
     "text": [
      "True\n"
     ]
    }
   ],
   "source": [
    "# Comprobación\n",
    "print([1, 2, 3] == [1, 2, 3])"
   ]
  },
  {
   "cell_type": "markdown",
   "id": "5a64bab7",
   "metadata": {},
   "source": [
    "**Respuesta final:** a) True "
   ]
  },
  {
   "cell_type": "markdown",
   "id": "f5ff7be6",
   "metadata": {},
   "source": [
    "## Ejercicio 26\n",
    "\n",
    "¿Qué se imprimirá en pantalla?  \n",
    "```python\n",
    "for i in range(5):\n",
    "print(i)\n",
    "```\n",
    "a) 1 2 3 4 5  \n",
    "b) 0 1 2 3 4 5  \n",
    "c) 0 1 2 3 4  \n",
    "d) 5 4 3 2 1\n"
   ]
  },
  {
   "cell_type": "code",
   "execution_count": null,
   "id": "f818f9d9",
   "metadata": {},
   "outputs": [
    {
     "name": "stdout",
     "output_type": "stream",
     "text": [
      "0\n",
      "1\n",
      "2\n",
      "3\n",
      "4\n"
     ]
    }
   ],
   "source": [
    "# Comprobación\n",
    "for i in range(5): \n",
    "    print(i)"
   ]
  },
  {
   "cell_type": "markdown",
   "id": "97df23d2",
   "metadata": {},
   "source": [
    "**Respuesta final:** c) 0 1 2 3 4 "
   ]
  },
  {
   "cell_type": "markdown",
   "id": "871a9516",
   "metadata": {},
   "source": [
    "## Ejercicio 27\n",
    "\n",
    "¿Qué ocurre?  \n",
    "```python\n",
    "s = {1, 2, 3}\n",
    "s.remove(4)\n",
    "```\n",
    "a) Borra 4 del conjunto  \n",
    "b) No hace nada  \n",
    "c) Lanza un error  \n",
    "d) Convierte a lista\n"
   ]
  },
  {
   "cell_type": "code",
   "execution_count": null,
   "id": "00c54adf",
   "metadata": {},
   "outputs": [
    {
     "ename": "KeyError",
     "evalue": "4",
     "output_type": "error",
     "traceback": [
      "\u001b[31m---------------------------------------------------------------------------\u001b[39m",
      "\u001b[31mKeyError\u001b[39m                                  Traceback (most recent call last)",
      "\u001b[36mCell\u001b[39m\u001b[36m \u001b[39m\u001b[32mIn[100]\u001b[39m\u001b[32m, line 3\u001b[39m\n\u001b[32m      1\u001b[39m \u001b[38;5;66;03m# Escribe aquí tu comprobación para el Ejercicio 27\u001b[39;00m\n\u001b[32m      2\u001b[39m s = {\u001b[32m1\u001b[39m, \u001b[32m2\u001b[39m, \u001b[32m3\u001b[39m}\n\u001b[32m----> \u001b[39m\u001b[32m3\u001b[39m \u001b[43ms\u001b[49m\u001b[43m.\u001b[49m\u001b[43mremove\u001b[49m\u001b[43m(\u001b[49m\u001b[32;43m4\u001b[39;49m\u001b[43m)\u001b[49m\n",
      "\u001b[31mKeyError\u001b[39m: 4"
     ]
    }
   ],
   "source": [
    "# Comprobación\n",
    "s = {1, 2, 3}\n",
    "s.remove(4)"
   ]
  },
  {
   "cell_type": "markdown",
   "id": "bcca7eb1",
   "metadata": {},
   "source": [
    "**Respuesta final:** c) Lanza un error"
   ]
  },
  {
   "cell_type": "markdown",
   "id": "5a259b0a",
   "metadata": {},
   "source": [
    "## Ejercicio 28\n",
    "\n",
    "Tienes el siguiente texto:  \n",
    "```python\n",
    "texto = \"Colombia México Perú Chile\"\n",
    "paises = texto.split()\n",
    "```\n",
    "¿Qué contendrá la variable `paises`?  \n",
    "a) \"Colombia,México,Perú,Chile\"  \n",
    "b) [\"Colombia\", \"México\", \"Perú\", \"Chile\"]  \n",
    "c) [\"Colombia México Perú Chile\"]  \n",
    "d) (\"Colombia\", \"México\", \"Perú\", \"Chile\")\n"
   ]
  },
  {
   "cell_type": "code",
   "execution_count": null,
   "id": "ec2dbbde",
   "metadata": {},
   "outputs": [
    {
     "data": {
      "text/plain": [
       "['Colombia', 'México', 'Perú', 'Chile']"
      ]
     },
     "execution_count": 102,
     "metadata": {},
     "output_type": "execute_result"
    }
   ],
   "source": [
    "# Comprobación\n",
    "texto = \"Colombia México Perú Chile\"\n",
    "paises = texto.split()\n",
    "paises"
   ]
  },
  {
   "cell_type": "markdown",
   "id": "55cd536f",
   "metadata": {},
   "source": [
    "**Respuesta final:** b) [\"Colombia\", \"México\", \"Perú\", \"Chile\"]"
   ]
  },
  {
   "cell_type": "markdown",
   "id": "7b0a76d6",
   "metadata": {},
   "source": [
    "## Ejercicio 29\n",
    "\n",
    "`ventas = \"1000;2500;3200;4500\"`  \n",
    "`valores = ventas.split(\";\")`  \n",
    "¿Qué resultado produce `valores`?  \n",
    "a) [\"1000\", \"2500\", \"3200\", \"4500\"]  \n",
    "b) [1000, 2500, 3200, 4500]  \n",
    "c) (\"1000\", \"2500\", \"3200\", \"4500\")  \n",
    "d) \"1000 2500 3200 4500\"\n"
   ]
  },
  {
   "cell_type": "code",
   "execution_count": null,
   "id": "1ff60c2e",
   "metadata": {},
   "outputs": [
    {
     "data": {
      "text/plain": [
       "['1000', '2500', '3200', '4500']"
      ]
     },
     "execution_count": 109,
     "metadata": {},
     "output_type": "execute_result"
    }
   ],
   "source": [
    "# Comprobación\n",
    "ventas = \"1000;2500;3200;4500\"\n",
    "valores = ventas.split(\";\")\n",
    "valores"
   ]
  },
  {
   "cell_type": "markdown",
   "id": "93e422a1",
   "metadata": {},
   "source": [
    "**Respuesta final:**a) [\"1000\", \"2500\", \"3200\", \"4500\"] "
   ]
  },
  {
   "cell_type": "markdown",
   "id": "08695783",
   "metadata": {},
   "source": [
    "## Ejercicio 30\n",
    "\n",
    "`palabras = [\"Economía\", \"Mercados\", \"Exportaciones\"]`  \n",
    "`texto = \" - \".join(palabras)`  \n",
    "¿Cuál será el contenido de `texto`?  \n",
    "a) [\"Economía - Mercados - Exportaciones\"]  \n",
    "b) \"Economía - Mercados - Exportaciones\"  \n",
    "c) \"Economía Mercados Exportaciones\"  \n",
    "d) (\"Economía - Mercados - Exportaciones\")\n"
   ]
  },
  {
   "cell_type": "code",
   "execution_count": null,
   "id": "d7f234da",
   "metadata": {},
   "outputs": [
    {
     "data": {
      "text/plain": [
       "'Economía - Mercados - Exportaciones'"
      ]
     },
     "execution_count": 110,
     "metadata": {},
     "output_type": "execute_result"
    }
   ],
   "source": [
    "# Comprobación\n",
    "palabras = [\"Economía\", \"Mercados\", \"Exportaciones\"]\n",
    "texto = \" - \".join(palabras)\n",
    "texto"
   ]
  },
  {
   "cell_type": "markdown",
   "id": "837f779e",
   "metadata": {},
   "source": [
    "**Respuesta final:** _b) \"Economía - Mercados - Exportaciones\" "
   ]
  },
  {
   "cell_type": "markdown",
   "id": "bca8f865",
   "metadata": {},
   "source": [
    "## Ejercicio 31\n",
    "\n",
    "`empresas = [\"Amazon\", \"Google\", \"Microsoft\", \"Apple\"]`  \n",
    "`empresas.sort()`  \n",
    "¿Qué contendrá `empresas` después?  \n",
    "a) ['Amazon', 'Apple', 'Google', 'Microsoft']  \n",
    "b) [\"Amazon\", \"Google\", \"Microsoft\", \"Apple\"]  \n",
    "c) [\"Microsoft\", \"Google\", \"Apple\", \"Amazon\"]  \n",
    "d) (\"Apple\", \"Amazon\", \"Google\", \"Microsoft\")\n"
   ]
  },
  {
   "cell_type": "code",
   "execution_count": null,
   "id": "b92f68d7",
   "metadata": {},
   "outputs": [
    {
     "data": {
      "text/plain": [
       "['Amazon', 'Apple', 'Google', 'Microsoft']"
      ]
     },
     "execution_count": 113,
     "metadata": {},
     "output_type": "execute_result"
    }
   ],
   "source": [
    "# Comprobación\n",
    "empresas = [\"Amazon\", \"Google\", \"Microsoft\", \"Apple\"]\n",
    "empresas.sort()\n",
    "empresas"
   ]
  },
  {
   "cell_type": "markdown",
   "id": "9b9c60f4",
   "metadata": {},
   "source": [
    "**Respuesta final:** a)['Amazon', 'Apple', 'Google', 'Microsoft']"
   ]
  },
  {
   "cell_type": "markdown",
   "id": "372fe9be",
   "metadata": {},
   "source": [
    "## Ejercicio 32\n",
    "\n",
    "`numeros = list(range(2, 10, 2))`  \n",
    "¿Qué contendrá la lista `numeros`?  \n",
    "a) [2, 4, 6, 8]  \n",
    "b) [2, 3, 4, 5, 6, 7, 8, 9]  \n",
    "c) [2, 6, 10]  \n",
    "d) [2, 4, 6, 8, 10]\n"
   ]
  },
  {
   "cell_type": "code",
   "execution_count": null,
   "id": "c6a03ada",
   "metadata": {},
   "outputs": [
    {
     "data": {
      "text/plain": [
       "[2, 4, 6, 8]"
      ]
     },
     "execution_count": 114,
     "metadata": {},
     "output_type": "execute_result"
    }
   ],
   "source": [
    "# Comprobación\n",
    "numeros = list(range(2, 10, 2))  \n",
    "numeros  "
   ]
  },
  {
   "cell_type": "markdown",
   "id": "38292fdf",
   "metadata": {},
   "source": [
    "**Respuesta final:** a) [2, 4, 6, 8] "
   ]
  }
 ],
 "metadata": {
  "kernelspec": {
   "display_name": "Python 3",
   "language": "python",
   "name": "python3"
  },
  "language_info": {
   "codemirror_mode": {
    "name": "ipython",
    "version": 3
   },
   "file_extension": ".py",
   "mimetype": "text/x-python",
   "name": "python",
   "nbconvert_exporter": "python",
   "pygments_lexer": "ipython3",
   "version": "3.13.5"
  }
 },
 "nbformat": 4,
 "nbformat_minor": 5
}
